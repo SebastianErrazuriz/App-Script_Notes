{
 "cells": [
  {
   "cell_type": "markdown",
   "id": "secondary-folder",
   "metadata": {},
   "source": [
    "# Creating a custom menu\n",
    "\n",
    "For more information regardinng App-script basic knowledge, visit [Fundamentals of Apps Script with Google Sheets](https://developers.google.com/learn/pathways/apps-script-fundamentals?hl=en)\n",
    "\n",
    "App-Script gives us the option to create custom menu items, therefore we can improve our spreedsheet UX. Custom menu items are defined using ```onOpen()```, wich is a simpler trigger function.\n",
    "\n",
    "Triggers are usefull to run some srcipts depending on an event or a specific condition. However it's important to say that simple triggers like ```onOpen()``` cannot run for longer than 30sec and there cannot be more than 20 triggers per user / script. "
   ]
  },
  {
   "cell_type": "code",
   "execution_count": null,
   "id": "automotive-conditions",
   "metadata": {},
   "outputs": [],
   "source": [
    "function onOpen() {\n",
    "    /* Description of the function code  */\n",
    "    // we aquire the object representing the user interfaceof the active spreadsheets\n",
    "    var ui = SpreadsheetApp.getUi();\n",
    "    ui.createMenu('Example menu')\n",
    "        // we create a connection between the menu item label and the function that we want to run \n",
    "        .addItem('name of the menu', 'myFunction')\n",
    "        .addToUi();\n",
    "}"
   ]
  },
  {
   "cell_type": "code",
   "execution_count": null,
   "id": "cordless-mobile",
   "metadata": {},
   "outputs": [],
   "source": []
  }
 ],
 "metadata": {
  "kernelspec": {
   "display_name": "Python 3",
   "language": "python",
   "name": "python3"
  },
  "language_info": {
   "codemirror_mode": {
    "name": "ipython",
    "version": 3
   },
   "file_extension": ".py",
   "mimetype": "text/x-python",
   "name": "python",
   "nbconvert_exporter": "python",
   "pygments_lexer": "ipython3",
   "version": "3.6.13"
  }
 },
 "nbformat": 4,
 "nbformat_minor": 5
}
